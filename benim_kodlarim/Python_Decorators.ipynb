{
 "cells": [
  {
   "cell_type": "code",
   "execution_count": 1,
   "id": "d3b14b10-f009-4863-b6a9-bfa8fd4f87f2",
   "metadata": {},
   "outputs": [
    {
     "name": "stderr",
     "output_type": "stream",
     "text": [
      "/opt/anaconda3/lib/python3.9/site-packages/scipy/__init__.py:146: UserWarning: A NumPy version >=1.16.5 and <1.23.0 is required for this version of SciPy (detected version 1.23.2\n",
      "  warnings.warn(f\"A NumPy version >={np_minversion} and <{np_maxversion}\"\n"
     ]
    }
   ],
   "source": [
    "import pandas as pd\n",
    "import numpy as np\n",
    "import seaborn as sns\n",
    "import matplotlib.pyplot as plt\n",
    "\n",
    "import warnings\n",
    "warnings.simplefilter(action='ignore')"
   ]
  },
  {
   "cell_type": "markdown",
   "id": "d58bc85b-5dda-455d-835d-74609be1ac9c",
   "metadata": {},
   "source": [
    "# First-Class Objects"
   ]
  },
  {
   "cell_type": "code",
   "execution_count": 2,
   "id": "f22e8ff7-1fee-4526-a3e8-b711643d9458",
   "metadata": {},
   "outputs": [],
   "source": [
    "def say_hello(name):\n",
    "    return f'Hello {name}'\n",
    "\n",
    "def be_awesome(name):\n",
    "    return f'You {name} are awesome'\n",
    "\n",
    "def greet_name(func, name):\n",
    "    return func(name)"
   ]
  },
  {
   "cell_type": "code",
   "execution_count": 3,
   "id": "7bf955f1-c062-43c9-8242-d71675afdcbd",
   "metadata": {},
   "outputs": [
    {
     "data": {
      "text/plain": [
       "'Hello Abdullah'"
      ]
     },
     "execution_count": 3,
     "metadata": {},
     "output_type": "execute_result"
    }
   ],
   "source": [
    "greet_name(say_hello, 'Abdullah')"
   ]
  },
  {
   "cell_type": "code",
   "execution_count": 4,
   "id": "88770ab7-7938-459c-b4e1-fef356a91c4f",
   "metadata": {},
   "outputs": [
    {
     "data": {
      "text/plain": [
       "'You Hatice are awesome'"
      ]
     },
     "execution_count": 4,
     "metadata": {},
     "output_type": "execute_result"
    }
   ],
   "source": [
    "greet_name(be_awesome, 'Hatice')"
   ]
  },
  {
   "cell_type": "markdown",
   "id": "2803ec9e-ff74-4a90-9c4d-d8f5eca414f7",
   "metadata": {},
   "source": [
    "# Inner Functions "
   ]
  },
  {
   "cell_type": "code",
   "execution_count": 5,
   "id": "2408dfe6-69b4-4a2b-aa8c-14f1db7c0dbb",
   "metadata": {},
   "outputs": [],
   "source": [
    "def parent():\n",
    "    print(\"0 - Printing from the parent() function\")\n",
    "\n",
    "    def first_child():\n",
    "        print(\"1 - Printing from the first_child() function\")\n",
    "\n",
    "    def second_child():\n",
    "        print(\"2 - Printing from the second_child() function\")\n",
    "\n",
    "    second_child()\n",
    "    #first_child()"
   ]
  },
  {
   "cell_type": "code",
   "execution_count": 6,
   "id": "8db51676-e499-40f8-9638-5cc8fb87b476",
   "metadata": {},
   "outputs": [
    {
     "name": "stdout",
     "output_type": "stream",
     "text": [
      "0 - Printing from the parent() function\n",
      "2 - Printing from the second_child() function\n"
     ]
    }
   ],
   "source": [
    "parent()"
   ]
  },
  {
   "cell_type": "code",
   "execution_count": 7,
   "id": "a109811c-5d24-49d3-ab9d-b8b53994ffe8",
   "metadata": {},
   "outputs": [],
   "source": [
    "def parent():\n",
    "    print(\"0 - Printing from the parent() function\")\n",
    "\n",
    "    def first_child():\n",
    "        print(\"1 - Printing from the first_child() function\")\n",
    "\n",
    "    def second_child():\n",
    "        print(\"2 - Printing from the second_child() function\")\n",
    "\n",
    "    second_child()\n",
    "    first_child()"
   ]
  },
  {
   "cell_type": "code",
   "execution_count": 8,
   "id": "0a8c0f27-ab50-4265-a36f-bd3b7f8b7115",
   "metadata": {},
   "outputs": [
    {
     "name": "stdout",
     "output_type": "stream",
     "text": [
      "0 - Printing from the parent() function\n",
      "2 - Printing from the second_child() function\n",
      "1 - Printing from the first_child() function\n"
     ]
    }
   ],
   "source": [
    "parent()"
   ]
  },
  {
   "cell_type": "markdown",
   "id": "cfa0d26f-8516-460e-ae6b-eebfbc33ed62",
   "metadata": {},
   "source": [
    "# Returning Functions From Functions"
   ]
  },
  {
   "cell_type": "code",
   "execution_count": 9,
   "id": "19f3a533-5160-4325-a3d8-6f867bfc3415",
   "metadata": {},
   "outputs": [],
   "source": [
    "def parent(num):\n",
    "    def first_child():\n",
    "        return \"Hi, I am Emma\"\n",
    "\n",
    "    def second_child():\n",
    "        return \"Call me Liam\"\n",
    "\n",
    "    if num == 1:\n",
    "        return first_child()\n",
    "    else:\n",
    "        return second_child()\n"
   ]
  },
  {
   "cell_type": "code",
   "execution_count": 10,
   "id": "8f09df86-6269-4344-beab-e1f8546d9be2",
   "metadata": {},
   "outputs": [
    {
     "data": {
      "text/plain": [
       "'Hi, I am Emma'"
      ]
     },
     "execution_count": 10,
     "metadata": {},
     "output_type": "execute_result"
    }
   ],
   "source": [
    "parent(1)"
   ]
  },
  {
   "cell_type": "code",
   "execution_count": 11,
   "id": "7ac3fa4e-efc4-4872-9d19-b54e34320a16",
   "metadata": {},
   "outputs": [],
   "source": [
    "first = parent(1)\n",
    "second = parent(2)"
   ]
  },
  {
   "cell_type": "code",
   "execution_count": 12,
   "id": "95b4dc66-3127-4afa-bb74-09b774a483d6",
   "metadata": {},
   "outputs": [
    {
     "data": {
      "text/plain": [
       "'Hi, I am Emma'"
      ]
     },
     "execution_count": 12,
     "metadata": {},
     "output_type": "execute_result"
    }
   ],
   "source": [
    "first"
   ]
  },
  {
   "cell_type": "code",
   "execution_count": 13,
   "id": "00d08d63-969d-4925-b801-cd29d8ce1c91",
   "metadata": {},
   "outputs": [
    {
     "data": {
      "text/plain": [
       "'Call me Liam'"
      ]
     },
     "execution_count": 13,
     "metadata": {},
     "output_type": "execute_result"
    }
   ],
   "source": [
    "second"
   ]
  },
  {
   "cell_type": "markdown",
   "id": "23e9f4bc-5e31-4f03-83bc-643074994bf5",
   "metadata": {},
   "source": [
    "# Simple Decorators"
   ]
  },
  {
   "cell_type": "markdown",
   "id": "4487f933-12fa-4df2-8a17-acefd824894b",
   "metadata": {},
   "source": [
    "## Say Whee"
   ]
  },
  {
   "cell_type": "code",
   "execution_count": 14,
   "id": "a5e1c7a1-980d-471b-a436-26e50d500e1e",
   "metadata": {},
   "outputs": [],
   "source": [
    "def my_decorator(func):\n",
    "    def wrapper():\n",
    "        print(\"Something is happening before the function is called.\")\n",
    "        func()\n",
    "        print(\"Something is happening AFTER the function is called.\")\n",
    "        \n",
    "    return wrapper\n",
    "\n",
    "def say_whee():\n",
    "    print('Whee!')\n",
    "    \n"
   ]
  },
  {
   "cell_type": "code",
   "execution_count": 15,
   "id": "05103db8-d17f-4f20-b1e1-2be9be43cbe0",
   "metadata": {},
   "outputs": [
    {
     "name": "stdout",
     "output_type": "stream",
     "text": [
      "Whee!\n"
     ]
    }
   ],
   "source": [
    "say_whee()"
   ]
  },
  {
   "cell_type": "code",
   "execution_count": 16,
   "id": "3e631562-ca3b-4907-84f7-9837402ee908",
   "metadata": {},
   "outputs": [
    {
     "name": "stdout",
     "output_type": "stream",
     "text": [
      "Something is happening before the function is called.\n",
      "Whee!\n",
      "Something is happening AFTER the function is called.\n"
     ]
    }
   ],
   "source": [
    "say_whee = my_decorator(say_whee)\n",
    "say_whee()"
   ]
  },
  {
   "cell_type": "markdown",
   "id": "d72d5671-f8ed-4e8d-ba5e-02754ba19717",
   "metadata": {},
   "source": [
    "## Not During the Day"
   ]
  },
  {
   "cell_type": "code",
   "execution_count": 17,
   "id": "6626cd0a-db77-420b-8f40-edf85a1c5f8f",
   "metadata": {},
   "outputs": [],
   "source": [
    "from datetime import datetime\n",
    "\n",
    "def not_during_the_night(func):\n",
    "    def wrapper():\n",
    "        if 7 <= datetime.now().hour < 22:\n",
    "            func()\n",
    "        else:\n",
    "            pass\n",
    "    return wrapper\n",
    "\n",
    "def say_whee():\n",
    "    print('Wheeee!')"
   ]
  },
  {
   "cell_type": "code",
   "execution_count": 18,
   "id": "cb18f7ab-dfbc-41f5-a945-48f02b893632",
   "metadata": {},
   "outputs": [
    {
     "name": "stdout",
     "output_type": "stream",
     "text": [
      "Wheeee!\n"
     ]
    }
   ],
   "source": [
    "say_whee = not_during_the_night(say_whee)\n",
    "say_whee()"
   ]
  },
  {
   "cell_type": "code",
   "execution_count": 19,
   "id": "d16f09c8-9847-4598-80a8-23c5420a488f",
   "metadata": {},
   "outputs": [
    {
     "data": {
      "text/plain": [
       "datetime.datetime(2022, 9, 5, 12, 14, 11, 577359)"
      ]
     },
     "execution_count": 19,
     "metadata": {},
     "output_type": "execute_result"
    }
   ],
   "source": [
    "datetime.now()"
   ]
  },
  {
   "cell_type": "code",
   "execution_count": 20,
   "id": "00d3c20a-0562-4ec2-b674-19e1cd608d39",
   "metadata": {},
   "outputs": [],
   "source": [
    "def my_decorator(func):\n",
    "    def wrapper():\n",
    "        print(\"Something is happening before the function is called.\")\n",
    "        func()\n",
    "        print(\"Something is happening after the function is called.\")\n",
    "    return wrapper\n",
    "\n",
    "@my_decorator       \n",
    "def say_whee():\n",
    "    print(\"Whee!\")\n",
    "\n",
    "# So, @my_decorator is just an easier way of saying say_whee = my_decorator(say_whee).\n",
    "# It’s how you apply a decorator to a function.    "
   ]
  },
  {
   "cell_type": "code",
   "execution_count": 21,
   "id": "0100407d-58b2-479a-ae01-83c18ffb5162",
   "metadata": {},
   "outputs": [
    {
     "name": "stdout",
     "output_type": "stream",
     "text": [
      "Something is happening before the function is called.\n",
      "Whee!\n",
      "Something is happening after the function is called.\n"
     ]
    }
   ],
   "source": [
    "say_whee()"
   ]
  },
  {
   "cell_type": "code",
   "execution_count": 22,
   "id": "956a06d2-ed19-4fc8-a28a-673e927e19f9",
   "metadata": {},
   "outputs": [],
   "source": [
    "def do_twice (func):\n",
    "    def wrapper_do_twice():\n",
    "        func()\n",
    "        func()\n",
    "    return wrapper_do_twice"
   ]
  },
  {
   "cell_type": "code",
   "execution_count": 23,
   "id": "990cdc95-61c3-42f8-81f4-3b45a1aa3073",
   "metadata": {},
   "outputs": [
    {
     "name": "stdout",
     "output_type": "stream",
     "text": [
      "Wheeeeeeee!\n",
      "Wheeeeeeee!\n"
     ]
    }
   ],
   "source": [
    "@do_twice\n",
    "def say_whee():\n",
    "    print('Wheeeeeeee!')\n",
    "\n",
    "say_whee()"
   ]
  },
  {
   "cell_type": "markdown",
   "id": "4c3ff9b1-01dc-44da-9344-ec02a116b570",
   "metadata": {},
   "source": [
    "## Decorating Functions With Arguments"
   ]
  },
  {
   "cell_type": "code",
   "execution_count": 24,
   "id": "a5ef6623-5808-44c9-9133-4acbe7be1337",
   "metadata": {},
   "outputs": [
    {
     "ename": "TypeError",
     "evalue": "wrapper_do_twice() takes 0 positional arguments but 1 was given",
     "output_type": "error",
     "traceback": [
      "\u001b[0;31m---------------------------------------------------------------------------\u001b[0m",
      "\u001b[0;31mTypeError\u001b[0m                                 Traceback (most recent call last)",
      "Input \u001b[0;32mIn [24]\u001b[0m, in \u001b[0;36m<cell line: 7>\u001b[0;34m()\u001b[0m\n\u001b[1;32m      3\u001b[0m \u001b[38;5;129m@do_twice\u001b[39m\n\u001b[1;32m      4\u001b[0m \u001b[38;5;28;01mdef\u001b[39;00m \u001b[38;5;21mgreet\u001b[39m(name):\n\u001b[1;32m      5\u001b[0m     \u001b[38;5;28mprint\u001b[39m (\u001b[38;5;124mf\u001b[39m\u001b[38;5;124m'\u001b[39m\u001b[38;5;124mHello \u001b[39m\u001b[38;5;132;01m{\u001b[39;00mname\u001b[38;5;132;01m}\u001b[39;00m\u001b[38;5;124m'\u001b[39m)\n\u001b[0;32m----> 7\u001b[0m \u001b[43mgreet\u001b[49m\u001b[43m(\u001b[49m\u001b[38;5;124;43m'\u001b[39;49m\u001b[38;5;124;43mWorld\u001b[39;49m\u001b[38;5;124;43m'\u001b[39;49m\u001b[43m)\u001b[49m\n",
      "\u001b[0;31mTypeError\u001b[0m: wrapper_do_twice() takes 0 positional arguments but 1 was given"
     ]
    }
   ],
   "source": [
    "# That will give error !!!!!\n",
    "\n",
    "@do_twice\n",
    "def greet(name):\n",
    "    print (f'Hello {name}')\n",
    "    \n",
    "greet('World')"
   ]
  },
  {
   "cell_type": "code",
   "execution_count": 25,
   "id": "708d9fc0-20ac-4022-9148-373472751fc4",
   "metadata": {},
   "outputs": [
    {
     "name": "stdout",
     "output_type": "stream",
     "text": [
      "Hello World\n",
      "Hello World\n"
     ]
    }
   ],
   "source": [
    "def do_twice(func):\n",
    "    def wrapper(name):\n",
    "        func(name)\n",
    "        func(name)\n",
    "    return wrapper\n",
    "\n",
    "@do_twice\n",
    "def greet(name):\n",
    "    print (f'Hello {name}')\n",
    "    \n",
    "greet('World')"
   ]
  },
  {
   "cell_type": "code",
   "execution_count": 26,
   "id": "02c3c9b4-71b3-4273-b269-5bdbb18cbd2b",
   "metadata": {},
   "outputs": [
    {
     "name": "stdout",
     "output_type": "stream",
     "text": [
      "Hello World\n",
      "Hello World\n"
     ]
    }
   ],
   "source": [
    "def do_twice(func):\n",
    "    def wrapper(*args, **kwargs):\n",
    "        func(*args, **kwargs)\n",
    "        func(*args, **kwargs)\n",
    "    return wrapper\n",
    "\n",
    "@do_twice\n",
    "def greet(name):\n",
    "    print (f'Hello {name}')\n",
    "    \n",
    "greet('World')"
   ]
  },
  {
   "cell_type": "code",
   "execution_count": 27,
   "id": "55951212-714a-49e9-97fa-6eb8063b5b4b",
   "metadata": {},
   "outputs": [
    {
     "name": "stdout",
     "output_type": "stream",
     "text": [
      "Wheeeeeeee!\n",
      "Wheeeeeeee!\n"
     ]
    }
   ],
   "source": [
    "say_whee()"
   ]
  },
  {
   "cell_type": "markdown",
   "id": "06527e08-5ac3-41ba-ad19-6d2239471dd4",
   "metadata": {},
   "source": [
    "## Returning Values From Decorated Functions"
   ]
  },
  {
   "cell_type": "code",
   "execution_count": 28,
   "id": "32f3b601-3c33-42e9-9f17-9b55bfc3d4c0",
   "metadata": {},
   "outputs": [
    {
     "name": "stdout",
     "output_type": "stream",
     "text": [
      "Hello Adam\n",
      "Hello Adam\n"
     ]
    }
   ],
   "source": [
    "hi_adam = greet('Adam')"
   ]
  },
  {
   "cell_type": "code",
   "execution_count": 29,
   "id": "dd2dbf0e-2cc2-4c03-8923-10d28b86b021",
   "metadata": {},
   "outputs": [
    {
     "name": "stdout",
     "output_type": "stream",
     "text": [
      "None\n"
     ]
    }
   ],
   "source": [
    "# Ooops no Return Value From Decorator :))\n",
    "print(hi_adam)"
   ]
  },
  {
   "cell_type": "code",
   "execution_count": 30,
   "id": "8287dff7-cf08-4b5b-8896-65e0f85abda8",
   "metadata": {},
   "outputs": [],
   "source": [
    "def do_twice(func):\n",
    "    def wrapper_do_twice(*args, **kwargs):\n",
    "        func(*args, **kwargs)\n",
    "        # add return to wrapper func.\n",
    "        return func(*args, **kwargs)\n",
    "    return wrapper_do_twice\n",
    "\n",
    "@do_twice\n",
    "def return_greeting(name):\n",
    "    print(\"Creating greeting\")\n",
    "    return f\"Hi {name}\""
   ]
  },
  {
   "cell_type": "code",
   "execution_count": 31,
   "id": "6876574d-24c0-4c91-8896-6de9f935e63d",
   "metadata": {},
   "outputs": [
    {
     "name": "stdout",
     "output_type": "stream",
     "text": [
      "Creating greeting\n",
      "Creating greeting\n",
      "Hi Adam\n"
     ]
    }
   ],
   "source": [
    "hi_adam = return_greeting('Adam')\n",
    "print(hi_adam)"
   ]
  },
  {
   "cell_type": "markdown",
   "id": "75dc57bd-4bb4-435c-9c04-290b470e64f6",
   "metadata": {
    "tags": []
   },
   "source": [
    "## Who Are You, Really?"
   ]
  },
  {
   "cell_type": "code",
   "execution_count": 32,
   "id": "a08f4643-3c9e-4fb5-85fa-c83725ab0d16",
   "metadata": {},
   "outputs": [
    {
     "data": {
      "text/plain": [
       "<function print>"
      ]
     },
     "execution_count": 32,
     "metadata": {},
     "output_type": "execute_result"
    }
   ],
   "source": [
    "print"
   ]
  },
  {
   "cell_type": "code",
   "execution_count": 33,
   "id": "a297c9c4-d12b-4181-8aba-4ee7a65e681c",
   "metadata": {},
   "outputs": [
    {
     "data": {
      "text/plain": [
       "'print'"
      ]
     },
     "execution_count": 33,
     "metadata": {},
     "output_type": "execute_result"
    }
   ],
   "source": [
    "print.__name__"
   ]
  },
  {
   "cell_type": "code",
   "execution_count": 34,
   "id": "e51c7cfe-eaa4-42f9-ab97-f2a2f1e66e33",
   "metadata": {},
   "outputs": [],
   "source": [
    "#help(print)"
   ]
  },
  {
   "cell_type": "code",
   "execution_count": 35,
   "id": "19e4a8b8-697a-408f-9b1b-c4897c58a5f2",
   "metadata": {},
   "outputs": [
    {
     "data": {
      "text/plain": [
       "<function __main__.do_twice.<locals>.wrapper_do_twice()>"
      ]
     },
     "execution_count": 35,
     "metadata": {},
     "output_type": "execute_result"
    }
   ],
   "source": [
    "say_whee"
   ]
  },
  {
   "cell_type": "code",
   "execution_count": 36,
   "id": "3eff7e39-b330-448d-bbcf-7bdc71f397d1",
   "metadata": {},
   "outputs": [
    {
     "data": {
      "text/plain": [
       "'wrapper_do_twice'"
      ]
     },
     "execution_count": 36,
     "metadata": {},
     "output_type": "execute_result"
    }
   ],
   "source": [
    "say_whee.__name__"
   ]
  },
  {
   "cell_type": "code",
   "execution_count": 37,
   "id": "7d9a97e6-f511-4dbb-a2c8-87da9b4d48f7",
   "metadata": {},
   "outputs": [
    {
     "name": "stdout",
     "output_type": "stream",
     "text": [
      "Help on function wrapper_do_twice in module __main__:\n",
      "\n",
      "wrapper_do_twice()\n",
      "\n"
     ]
    }
   ],
   "source": [
    "help(say_whee)"
   ]
  },
  {
   "cell_type": "code",
   "execution_count": 38,
   "id": "f4bd8ce3-ff19-4b88-a052-0a0ed64e932a",
   "metadata": {},
   "outputs": [],
   "source": [
    "import functools\n",
    "\n",
    "\n",
    "def do_twice(func):\n",
    "    @functools.wraps(func)\n",
    "\n",
    "    def wrapper_do_twice(*args, **kwargs):\n",
    "        func(*args, **kwargs)\n",
    "        return func(*args, **kwargs)\n",
    "    return wrapper_do_twice\n",
    "\n",
    "@do_twice\n",
    "def say_whee(name):\n",
    "    print(f'Wheee {name}')"
   ]
  },
  {
   "cell_type": "code",
   "execution_count": 39,
   "id": "dbd80045-7e96-4941-859e-044ca138b910",
   "metadata": {},
   "outputs": [
    {
     "data": {
      "text/plain": [
       "<function __main__.say_whee(name)>"
      ]
     },
     "execution_count": 39,
     "metadata": {},
     "output_type": "execute_result"
    }
   ],
   "source": [
    "say_whee"
   ]
  },
  {
   "cell_type": "code",
   "execution_count": 40,
   "id": "b9f97d9a-95cd-4226-8633-a95ac95af9e8",
   "metadata": {},
   "outputs": [
    {
     "data": {
      "text/plain": [
       "'say_whee'"
      ]
     },
     "execution_count": 40,
     "metadata": {},
     "output_type": "execute_result"
    }
   ],
   "source": [
    "say_whee.__name__"
   ]
  },
  {
   "cell_type": "code",
   "execution_count": 41,
   "id": "29575abf-9dc2-41e1-9478-f4461e055c99",
   "metadata": {},
   "outputs": [
    {
     "name": "stdout",
     "output_type": "stream",
     "text": [
      "Help on function say_whee in module __main__:\n",
      "\n",
      "say_whee(name)\n",
      "\n"
     ]
    }
   ],
   "source": [
    "help(say_whee)"
   ]
  },
  {
   "cell_type": "markdown",
   "id": "aa67c2ea-04b4-4ff9-89f1-254d9447e6bb",
   "metadata": {},
   "source": [
    "## A Few Real World Examples"
   ]
  },
  {
   "cell_type": "code",
   "execution_count": 42,
   "id": "6bcbe364-946c-4e42-9145-efef9178d741",
   "metadata": {},
   "outputs": [],
   "source": [
    "import functools\n",
    "\n",
    "def decorator(func):\n",
    "    @functools.wraps(func)\n",
    "    \n",
    "    def wrapper_decorator(*args, **kwargs):\n",
    "        # Do Something Before\n",
    "        value  = func(*args, **kwargs)\n",
    "        #Do something After\n",
    "        return value\n",
    "    return wrapper_decorator"
   ]
  },
  {
   "cell_type": "markdown",
   "id": "38ac5070-3bb3-4467-b4e9-d14a57846c17",
   "metadata": {},
   "source": [
    "### Timing Functions"
   ]
  },
  {
   "cell_type": "code",
   "execution_count": 43,
   "id": "6767e2cf-12b1-4e4c-9a24-b8ae892c2264",
   "metadata": {},
   "outputs": [],
   "source": [
    "import functools\n",
    "import time\n",
    "\n",
    "def timer(func):\n",
    "    \"\"\"Print the runtime of the decorated function\"\"\"\n",
    "    @functools.wraps(func)\n",
    "    def wrapper_timer(*args, **kwargs):\n",
    "        start_time = time.perf_counter()    # 1\n",
    "        value = func(*args, **kwargs)\n",
    "        end_time = time.perf_counter()      # 2\n",
    "        run_time = end_time - start_time    # 3\n",
    "        print(f\"Finished {func.__name__!r} in {run_time:.4f} secs\")\n",
    "        return value\n",
    "    return wrapper_timer\n",
    "\n",
    "@timer\n",
    "def waste_some_time(num_times):\n",
    "    for _ in range(num_times):\n",
    "        sum([i**2 for i in range(10000)]) # 0 dan 10000 e kadar olan sayilarin kareleri toplamini heasaplar (333283335000)\n",
    "                                          # Bu islemi girdigin sayi kadar tekrar ediyor 10 girersen 10 defa 0 dan 10000 e kadar olan syilarin toplaminin hesaplar\n"
   ]
  },
  {
   "cell_type": "code",
   "execution_count": 44,
   "id": "0097903d-72ff-4f71-b947-d611a82318ec",
   "metadata": {},
   "outputs": [
    {
     "name": "stdout",
     "output_type": "stream",
     "text": [
      "Finished 'waste_some_time' in 4.2802 secs\n"
     ]
    }
   ],
   "source": [
    "waste_some_time(999)"
   ]
  },
  {
   "cell_type": "markdown",
   "id": "38ba908e-270f-4b2f-b964-a1674182e2a8",
   "metadata": {},
   "source": [
    "#### waste_some _time fonction explanation"
   ]
  },
  {
   "cell_type": "code",
   "execution_count": 45,
   "id": "4de44e6e-730b-4c1d-9750-25b62d613877",
   "metadata": {},
   "outputs": [
    {
     "name": "stdout",
     "output_type": "stream",
     "text": [
      "333283335000\n",
      "0\n",
      "333283335000\n",
      "1\n",
      "333283335000\n",
      "2\n"
     ]
    }
   ],
   "source": [
    "def waste_some_time(num_times):\n",
    "    for _ in range(num_times):\n",
    "        print(sum([i**2 for i in range(10000)]))\n",
    "        print(_)\n",
    "            \n",
    "        \n",
    "waste_some_time(3)"
   ]
  },
  {
   "cell_type": "code",
   "execution_count": 46,
   "id": "15da74a4-ba9f-49c1-98c7-f17dbfbff916",
   "metadata": {},
   "outputs": [
    {
     "data": {
      "text/plain": [
       "333283335000"
      ]
     },
     "execution_count": 46,
     "metadata": {},
     "output_type": "execute_result"
    }
   ],
   "source": [
    "sum(i**2 for i in range(10000))"
   ]
  },
  {
   "cell_type": "markdown",
   "id": "e91fbf6d-3479-4736-a455-01b6b5be104d",
   "metadata": {},
   "source": [
    "### Debugging Code"
   ]
  },
  {
   "cell_type": "code",
   "execution_count": 47,
   "id": "a4d78169-a267-4b24-8508-e64ded799ebd",
   "metadata": {},
   "outputs": [],
   "source": [
    "import functools\n",
    "\n",
    "def debug(func):\n",
    "    \"\"\"Print the function signature and return value\"\"\"\n",
    "    @functools.wraps(func)\n",
    "    def wrapper_debug(*args, **kwargs):\n",
    "        args_repr = [repr(a) for a in args]                      # 1\n",
    "        kwargs_repr = [f\"{k}={v!r}\" for k, v in kwargs.items()]  # 2\n",
    "        signature = \", \".join(args_repr + kwargs_repr)           # 3\n",
    "        print(f\"Calling {func.__name__}({signature})\")\n",
    "        value = func(*args, **kwargs)\n",
    "        print(f\"{func.__name__!r} returned {value!r}\")           # 4\n",
    "        return value\n",
    "    return wrapper_debug\n"
   ]
  },
  {
   "cell_type": "code",
   "execution_count": 48,
   "id": "60121f15-ede6-465f-8c98-99d38cd7be62",
   "metadata": {},
   "outputs": [
    {
     "name": "stdout",
     "output_type": "stream",
     "text": [
      "Calling make_greeting('Abdullah')\n",
      "'make_greeting' returned 'Howdy Abdullah'\n"
     ]
    },
    {
     "data": {
      "text/plain": [
       "'Howdy Abdullah'"
      ]
     },
     "execution_count": 48,
     "metadata": {},
     "output_type": "execute_result"
    }
   ],
   "source": [
    "@debug\n",
    "def make_greeting(name, age=None):\n",
    "    if age is None:\n",
    "        return f'Howdy {name}'\n",
    "    else:\n",
    "        return f'Whoa {name}! {age} already, you are growing up!:)'\n",
    "\n",
    "make_greeting('Abdullah')"
   ]
  },
  {
   "cell_type": "code",
   "execution_count": 49,
   "id": "ea5e9e78-fc8d-4b5a-aa3b-93dbc76ecf12",
   "metadata": {},
   "outputs": [
    {
     "name": "stdout",
     "output_type": "stream",
     "text": [
      "Calling make_greeting('Abdullah', age=38)\n",
      "'make_greeting' returned 'Whoa Abdullah! 38 already, you are growing up!:)'\n"
     ]
    },
    {
     "data": {
      "text/plain": [
       "'Whoa Abdullah! 38 already, you are growing up!:)'"
      ]
     },
     "execution_count": 49,
     "metadata": {},
     "output_type": "execute_result"
    }
   ],
   "source": [
    "make_greeting('Abdullah', age=38)"
   ]
  },
  {
   "cell_type": "code",
   "execution_count": 55,
   "id": "6d46dd5d-c108-4477-a1bc-3804185b19e3",
   "metadata": {},
   "outputs": [],
   "source": [
    "import math\n",
    "\n",
    "# Apply a decorator to a standard library function\n",
    "math.factorial = debug(math.factorial)\n",
    "\n",
    "def approximate_e(terms=None):\n",
    "    return sum(math.factorial(n) for n in range(terms))\n"
   ]
  },
  {
   "cell_type": "code",
   "execution_count": 56,
   "id": "2f4b4bea-8467-4b06-9243-a871d1c227ce",
   "metadata": {},
   "outputs": [
    {
     "name": "stdout",
     "output_type": "stream",
     "text": [
      "Calling factorial(0)\n",
      "'factorial' returned 1\n",
      "Calling factorial(1)\n",
      "'factorial' returned 1\n",
      "Calling factorial(2)\n",
      "'factorial' returned 2\n",
      "Calling factorial(3)\n",
      "'factorial' returned 6\n",
      "Calling factorial(4)\n",
      "'factorial' returned 24\n"
     ]
    },
    {
     "data": {
      "text/plain": [
       "34"
      ]
     },
     "execution_count": 56,
     "metadata": {},
     "output_type": "execute_result"
    }
   ],
   "source": [
    "approximate_e(5)"
   ]
  },
  {
   "cell_type": "markdown",
   "id": "70d62069-0a77-471c-8ebd-8a9313a7ea7f",
   "metadata": {},
   "source": [
    "### Slowing Down Code"
   ]
  },
  {
   "cell_type": "code",
   "execution_count": null,
   "id": "0bae93a5-6700-4c35-926d-143389effde0",
   "metadata": {},
   "outputs": [],
   "source": []
  },
  {
   "cell_type": "code",
   "execution_count": null,
   "id": "5269d016-8b9d-42a1-b6e9-b973f72a40d4",
   "metadata": {},
   "outputs": [],
   "source": []
  },
  {
   "cell_type": "code",
   "execution_count": null,
   "id": "6b312e36-8784-4401-a260-cb5ce5c191fb",
   "metadata": {},
   "outputs": [],
   "source": []
  },
  {
   "cell_type": "code",
   "execution_count": null,
   "id": "5df2d709-c2f7-4b23-ad4a-baf96d51aca5",
   "metadata": {},
   "outputs": [],
   "source": []
  },
  {
   "cell_type": "code",
   "execution_count": null,
   "id": "35fdaade-0c23-4e3e-9eef-593f1aacc5c8",
   "metadata": {},
   "outputs": [],
   "source": []
  },
  {
   "cell_type": "code",
   "execution_count": null,
   "id": "a8fff573-ee51-4d45-8249-f4466582b396",
   "metadata": {
    "tags": []
   },
   "outputs": [],
   "source": []
  },
  {
   "cell_type": "code",
   "execution_count": null,
   "id": "becda8eb-4a21-4134-ba8f-4beb12724e29",
   "metadata": {
    "tags": []
   },
   "outputs": [],
   "source": []
  },
  {
   "cell_type": "code",
   "execution_count": null,
   "id": "20ece72d-b35f-4ca0-9e89-ab9e345dc9a4",
   "metadata": {},
   "outputs": [],
   "source": []
  }
 ],
 "metadata": {
  "kernelspec": {
   "display_name": "Python 3 (ipykernel)",
   "language": "python",
   "name": "python3"
  },
  "language_info": {
   "codemirror_mode": {
    "name": "ipython",
    "version": 3
   },
   "file_extension": ".py",
   "mimetype": "text/x-python",
   "name": "python",
   "nbconvert_exporter": "python",
   "pygments_lexer": "ipython3",
   "version": "3.9.12"
  },
  "toc-autonumbering": true
 },
 "nbformat": 4,
 "nbformat_minor": 5
}
